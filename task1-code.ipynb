{
 "cells": [
  {
   "cell_type": "code",
   "execution_count": 3,
   "id": "32df5614-f28d-4a68-975b-3ba99c46e8a8",
   "metadata": {},
   "outputs": [],
   "source": [
    "import numpy as np"
   ]
  },
  {
   "cell_type": "markdown",
   "id": "0b0f4832-df94-43e0-9e0f-a21ff77cec22",
   "metadata": {},
   "source": [
    "**Dominant Value Function**"
   ]
  },
  {
   "cell_type": "code",
   "execution_count": 14,
   "id": "c6aa3c77-a3fa-42e8-a48e-fe04a9f27385",
   "metadata": {},
   "outputs": [
    {
     "name": "stdout",
     "output_type": "stream",
     "text": [
      "Dominant Eigenvalue: 5.372281323269014\n"
     ]
    }
   ],
   "source": [
    "def dominant_value(matrix):\n",
    "    eigenvalues = np.linalg.eigvals(matrix)\n",
    "    return max(eigenvalues, key=abs) #max to use the absolute value of each eigenvalue\n",
    "matrix = np.array([[4, 2], [3, 1]])\n",
    "print(\"Dominant Eigenvalue:\", dominant_value(matrix))"
   ]
  },
  {
   "cell_type": "markdown",
   "id": "2aeda525-bff1-4f5c-b39e-49592e6d631b",
   "metadata": {},
   "source": [
    "**Inverse Matrix Function**"
   ]
  },
  {
   "cell_type": "code",
   "execution_count": 19,
   "id": "0e3decfa-4bb0-47d2-b051-2679178a54f6",
   "metadata": {},
   "outputs": [
    {
     "name": "stdout",
     "output_type": "stream",
     "text": [
      "Inverse Matrix:\n",
      " [[-0.5  1. ]\n",
      " [ 1.5 -2. ]]\n"
     ]
    }
   ],
   "source": [
    "def inverse_matrix(matrix):\n",
    "    dominant_eigenvalue = dominant_value(matrix)\n",
    "    if dominant_eigenvalue == 0:\n",
    "        raise ValueError(\"Matrix is singular and cannot be inverted.\")\n",
    "    inverse = np.linalg.inv(matrix)\n",
    "    return inverse\n",
    "matrix = np.array([[4, 2], [3, 1]])\n",
    "print(\"Inverse Matrix:\\n\", inverse_matrix(matrix))"
   ]
  },
  {
   "cell_type": "markdown",
   "id": "038520c3-8062-404b-a026-ff178d6e827f",
   "metadata": {},
   "source": [
    "**inverse of 3*3 matrix**"
   ]
  },
  {
   "cell_type": "code",
   "execution_count": 34,
   "id": "513ea526-5925-4766-805b-bf236fb24528",
   "metadata": {},
   "outputs": [
    {
     "name": "stdout",
     "output_type": "stream",
     "text": [
      "[[ 0.17647059 -0.00326797 -0.02287582]\n",
      " [ 0.05882353 -0.13071895  0.08496732]\n",
      " [-0.11764706  0.1503268   0.05228758]]\n"
     ]
    }
   ],
   "source": [
    "import numpy as np\n",
    "A = np.array([[6, 1, 1],\n",
    "[4, -2, 5],\n",
    "[2, 8, 7]])\n",
    "#inverse of the matrix\n",
    "print(np.linalg.inv(A))"
   ]
  },
  {
   "cell_type": "markdown",
   "id": "b7312232-51c8-449e-bfca-8a9aaaadaa90",
   "metadata": {
    "scrolled": true
   },
   "source": [
    "**Identity Matrix Function**"
   ]
  },
  {
   "cell_type": "code",
   "execution_count": 31,
   "id": "c9594af8-bb53-4583-bac8-0b5e71df3745",
   "metadata": {},
   "outputs": [
    {
     "name": "stdout",
     "output_type": "stream",
     "text": [
      "Identity Matrix:\n",
      " [[1. 0.]\n",
      " [0. 1.]]\n"
     ]
    }
   ],
   "source": [
    "def identity_matrix(matrix):\n",
    "    size = matrix.shape[0] #matrix.shape would return (2, 2)\n",
    "    identity = np.eye(size) #eye function creates an identity matrix.\n",
    "    return identity\n",
    "matrix = np.array([[4, 2], [3, 1]])\n",
    "print(\"Identity Matrix:\\n\", identity_matrix(matrix))"
   ]
  },
  {
   "cell_type": "code",
   "execution_count": null,
   "id": "c7a2a9b2-ecce-4edb-a030-8a95bfe93f9c",
   "metadata": {},
   "outputs": [],
   "source": []
  }
 ],
 "metadata": {
  "kernelspec": {
   "display_name": "Python 3 (ipykernel)",
   "language": "python",
   "name": "python3"
  },
  "language_info": {
   "codemirror_mode": {
    "name": "ipython",
    "version": 3
   },
   "file_extension": ".py",
   "mimetype": "text/x-python",
   "name": "python",
   "nbconvert_exporter": "python",
   "pygments_lexer": "ipython3",
   "version": "3.12.4"
  }
 },
 "nbformat": 4,
 "nbformat_minor": 5
}
